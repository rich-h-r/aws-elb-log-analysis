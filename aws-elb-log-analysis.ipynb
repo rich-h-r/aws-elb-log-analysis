{
 "cells": [
  {
   "cell_type": "markdown",
   "id": "fdfd9221",
   "metadata": {},
   "source": [
    "# Examine the ELB logs from AWS"
   ]
  },
  {
   "cell_type": "code",
   "execution_count": null,
   "id": "576a8b48",
   "metadata": {},
   "outputs": [],
   "source": [
    "import pandas as pd\n",
    "import glob\n",
    "import re\n",
    "import boto3\n",
    "import io\n",
    "from boto3 import session\n",
    "from dateutil import parser"
   ]
  },
  {
   "cell_type": "markdown",
   "id": "dce8d082",
   "metadata": {},
   "source": [
    "## Extract the data from S3"
   ]
  },
  {
   "cell_type": "code",
   "execution_count": null,
   "id": "281b9ef3",
   "metadata": {},
   "outputs": [],
   "source": [
    "# get data file names\n",
    "bucket_name = input('S3 bucket containing the ELB logs: ' )\n",
    "log_location_prefix = input( 's3 key prefix locating the logs: ' )\n",
    "log_date = parser.parse(input('date for logs: ') )\n",
    "aws_region = 'eu-west-1'\n",
    "\n",
    "# set up some aws api stuff\n",
    "account = boto3.client('sts').get_caller_identity().get('Account')\n",
    "session = boto3.session.Session(region_name=aws_region)\n",
    "s3client = session.client('s3', config = boto3.session.Config())\n",
    "\n",
    "#to load daily:\n",
    "#s3_folder = f'{log_location_prefix}/AWSLogs/{account}/elasticloadbalancing/{aws_region}/{log_date:%Y}/{log_date:%m}/{log_date:%d}/'\n",
    "#to load monthly:\n",
    "s3_folder = f'{log_location_prefix}/AWSLogs/{account}/elasticloadbalancing/{aws_region}/{log_date:%Y}/{log_date:%m}/'\n",
    "\n",
    "#TODO: might have to adapt these if looking at ALB or NLBs, these are for CLB\n",
    "header=['time', 'elb', 'client', 'backend', 'request_processing_time', 'backend_processing_time', 'response_processing_time', 'elb_status_code', 'backend_status_code', 'received_bytes', 'sent_bytes', 'request', 'user_agent', 'ssl_cipher', 'ssl_protocol']\n",
    "dtypes={'time':'str', 'elb':'str', 'client':'str', 'backend':'str', 'request_processing_time':'float', 'backend_processing_time':'float', 'response_processing_time':'float', 'elb_status_code':'Int64', 'backend_status_code':'Int64', 'received_bytes':'int', 'sent_bytes':'int', 'request':'str', 'user_agent':'str', 'ssl_cipher':'str', 'ssl_protocol':'str'}\n",
    "parse_dates = ['time']\n",
    "li = []\n",
    "\n",
    "print(f'loading all *.log objects in {bucket_name}/{s3_folder}')\n",
    "\n",
    "paginator = s3client.get_paginator('list_objects_v2')\n",
    "result = paginator.paginate(Bucket=bucket_name, Prefix=s3_folder)\n",
    "for page in result:\n",
    "    if \"Contents\" in page:\n",
    "        for key in page[ \"Contents\" ]:\n",
    "            keyString = key[ \"Key\" ]\n",
    "            response = s3client.get_object(Bucket=bucket_name, Key=key[\"Key\"])\n",
    "            try:\n",
    "              df=pd.read_csv(io.BytesIO(response['Body'].read()), sep=' ', index_col=None, names=header, dtype=dtypes, parse_dates=['time'], encoding='utf8', na_values=['-'])\n",
    "              df['loadbalancer_node'] = re.search('(?:_)(\\d{1,3}\\.\\d{1,3}\\.\\d{1,3}\\.\\d{1,3})(?:_)', key[\"Key\"]).group(1)\n",
    "            except:\n",
    "              print(f'failed loading loading {keyString}')\n",
    "              raise\n",
    "            li.append(df)\n",
    "\n",
    "frame = pd.concat(li, axis=0, ignore_index=True)\n",
    "\n",
    "print(f'total lines loaded {len(frame.index)}')\n",
    "frame = frame.set_index('time')\n",
    "\n",
    "frame.info()\n",
    "frame.sample(5)"
   ]
  },
  {
   "cell_type": "code",
   "execution_count": null,
   "id": "906047ff",
   "metadata": {},
   "outputs": [],
   "source": [
    "# Extract the HTTP URL and the HTTP Verb from the request string\n",
    "\n",
    "# some useful examples:\n",
    "# using: movie_title = 'jaws 2 (1986)'\n",
    "#df['titles'] = df['movie_title'].str.extract('([a-zA-Z ]+)', expand=False).str.strip()\n",
    "#df['titles1'] = df['movie_title'].str.split('(', 1).str[0].str.strip()\n",
    "#df['titles2'] = df['movie_title'].str.replace(r'\\([^)]*\\)', '').str.strip()\n",
    "\n",
    "frame['verb'] = frame['request'].str.extract(r'([A-Z]*)\\s', expand=False).str.strip()\n",
    "frame['url'] = frame['request'].str.extract(r'[A-Z]*\\s(.*)\\s', expand=False).str.strip()\n",
    "frame['protocol'] = frame['request'].str.extract(r'\\s.*\\s(.*)$', expand=False).str.strip()\n",
    "frame['route'] = frame['url'].str.extract('.*\\:\\/\\/.*\\:[0-9]*\\/(.*)', expand=False).str.strip()\n",
    "\n",
    "print('completed extracting other data')"
   ]
  },
  {
   "cell_type": "code",
   "execution_count": null,
   "id": "025f6c10",
   "metadata": {},
   "outputs": [],
   "source": [
    "import matplotlib.pyplot as plt\n",
    "import seaborn as sns\n",
    "# Use seaborn style defaults and set the default figure size\n",
    "sns.set(rc={'figure.figsize':(11, 4)})"
   ]
  },
  {
   "cell_type": "markdown",
   "id": "1022ba3a",
   "metadata": {},
   "source": [
    "## Examine the number of requests and any error codes"
   ]
  },
  {
   "cell_type": "code",
   "execution_count": null,
   "id": "c0b26741",
   "metadata": {},
   "outputs": [],
   "source": [
    "bucket_frequency = '5S'\n",
    "\n",
    "all_requests = frame.resample(bucket_frequency).elb.value_counts(sort=False).reset_index(name='request_count').set_index('time')\n",
    "fig, ax = plt.subplots()\n",
    "ax.plot(all_requests['request_count'], linestyle='', marker='.', linewidth=0.5, label='Requests')\n",
    "ax.plot(frame[frame.elb_status_code.eq(503)].resample(bucket_frequency).elb.value_counts(sort=False).reset_index(name='failures').set_index('time')['failures'], linestyle='', marker='.', linewidth=0.5, label='503s')\n",
    "\n",
    "ax.legend()\n",
    "\n",
    "all_statuses = frame.groupby('elb_status_code').elb.value_counts(sort=False).reset_index(name='status_count').set_index('elb_status_code').drop(columns=['elb'])\n",
    "all_statuses.head(10)\n"
   ]
  },
  {
   "cell_type": "markdown",
   "id": "9e28fb37",
   "metadata": {},
   "source": [
    "## look for failed POST requests"
   ]
  },
  {
   "cell_type": "code",
   "execution_count": null,
   "id": "b2827f39",
   "metadata": {},
   "outputs": [],
   "source": [
    "# looking at posts \n",
    "posts = frame[frame.verb.eq('POST')] \\\n",
    "    .groupby(['route', 'elb_status_code']) \\\n",
    "    .elb.value_counts(sort=False) \\\n",
    "    .reset_index(name='number_of_requests') \\\n",
    "    .set_index(['route', 'elb_status_code'])\n",
    "\n",
    "posts.head(10)"
   ]
  },
  {
   "cell_type": "code",
   "execution_count": null,
   "id": "784d608a",
   "metadata": {},
   "outputs": [],
   "source": [
    "print (f'first occurance at {frame[frame.elb_status_code.eq(503)].first_valid_index()}, last at {frame[frame.elb_status_code.eq(503)].last_valid_index()}')\n"
   ]
  },
  {
   "cell_type": "markdown",
   "id": "03521fc1",
   "metadata": {},
   "source": [
    "## look at the routes that failed"
   ]
  },
  {
   "cell_type": "code",
   "execution_count": null,
   "id": "db3b2f60",
   "metadata": {},
   "outputs": [],
   "source": [
    "routes = frame[frame.elb_status_code.eq(503)] \\\n",
    "    .groupby(['loadbalancer_node', 'route']) \\\n",
    "    .elb.value_counts(sort=False) \\\n",
    "    .reset_index(name='number_of_requests') \\\n",
    "    .set_index(['route']).head()\n",
    "\n",
    "routes.head(10)"
   ]
  },
  {
   "cell_type": "markdown",
   "id": "3a94af1a",
   "metadata": {},
   "source": [
    "## average response for a specific route"
   ]
  },
  {
   "cell_type": "code",
   "execution_count": null,
   "id": "e3da2318",
   "metadata": {},
   "outputs": [],
   "source": [
    "import numpy as np\n",
    "\n",
    "specific_route = input( 'what routes are you interested in: ' )\n",
    "\n",
    "frame[frame.route.eq(specific_route)] \\\n",
    "    .groupby(['route','loadbalancer_node', 'elb_status_code']) \\\n",
    "    .agg(\n",
    "        mean_backend_response=('backend_processing_time', np.mean),\n",
    "        min_backend_response=('backend_processing_time', np.min),\n",
    "        max_backend_response=('backend_processing_time', np.max),\n",
    "        std_dev_backend_response=('backend_processing_time', np.std)) \\\n",
    "    .head()"
   ]
  },
  {
   "cell_type": "code",
   "execution_count": null,
   "id": "29c5a2a2",
   "metadata": {},
   "outputs": [],
   "source": [
    "frame[frame.route.eq(specific_route) & frame.elb_status_code.eq(200)] \\\n",
    "    .groupby(['route', 'elb_status_code']) \\\n",
    "    .agg(\n",
    "        mean_backend_response=('backend_processing_time', np.mean),\n",
    "        min_backend_response=('backend_processing_time', np.min),\n",
    "        max_backend_response=('backend_processing_time', np.max),\n",
    "        std_dev_backend_response=('backend_processing_time', np.std)) \\\n",
    "    .head()"
   ]
  },
  {
   "cell_type": "code",
   "execution_count": null,
   "id": "be4068c5",
   "metadata": {},
   "outputs": [],
   "source": [
    "bins = [0, 1, 2, 3, 4, 5, 6, 7, 8, 9, 10]\n",
    "frame[frame.route.eq(specific_route)].backend_processing_time.value_counts(bins=bins, sort=False) "
   ]
  },
  {
   "cell_type": "code",
   "execution_count": null,
   "id": "5bfa07ef",
   "metadata": {},
   "outputs": [],
   "source": [
    "frame[frame.route.eq(specific_route) & frame.elb_status_code.eq(200)] \\\n",
    "    .groupby(['route']) \\\n",
    "    .backend_processing_time.plot(kind='kde')"
   ]
  },
  {
   "cell_type": "markdown",
   "id": "c35c7d75",
   "metadata": {},
   "source": [
    "## Examine any failures and when they occur\n",
    "\n",
    "Need to set the start and end dates by looking at the data above"
   ]
  },
  {
   "cell_type": "code",
   "execution_count": null,
   "id": "c6995f63",
   "metadata": {},
   "outputs": [],
   "source": [
    "failure_period = frame.sort_index().loc['2022-02-17 18:42:00+00:00':'2022-02-17 19:43:00+00:00']\n",
    "requests = failure_period.resample('1S').elb.value_counts(sort=False).reset_index(name='request_count').set_index('time')\n",
    "status_503 = failure_period[failure_period.elb_status_code.eq(503)].resample('1S').elb.value_counts(sort=False).reset_index(name='failure_count').set_index('time')\n",
    "\n",
    "fig, ax = plt.subplots()\n",
    "\n",
    "ax.plot(requests['request_count'], linestyle='', marker='.', linewidth=0.5, label='Requests')\n",
    "\n",
    "ax.plot(status_503['failure_count'], linestyle='', marker='.', label='503 errors')\n",
    "ax.legend()\n",
    "\n",
    "print(f'total failures: {status_503.failure_count.sum()}')\n"
   ]
  }
 ],
 "metadata": {
  "kernelspec": {
   "display_name": "Python 3 (ipykernel)",
   "language": "python",
   "name": "python3"
  },
  "language_info": {
   "codemirror_mode": {
    "name": "ipython",
    "version": 3
   },
   "file_extension": ".py",
   "mimetype": "text/x-python",
   "name": "python",
   "nbconvert_exporter": "python",
   "pygments_lexer": "ipython3",
   "version": "3.9.2"
  }
 },
 "nbformat": 4,
 "nbformat_minor": 5
}
